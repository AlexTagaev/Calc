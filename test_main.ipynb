{
 "cells": [
  {
   "cell_type": "code",
   "execution_count": 9,
   "metadata": {},
   "outputs": [
    {
     "name": "stdout",
     "output_type": "stream",
     "text": [
      "{\"result\":619.0}\n"
     ]
    }
   ],
   "source": [
    "import requests\n",
    "\n",
    "# запрос для калькулятора\n",
    "param = {\n",
    "    'a': 328,\n",
    "    'b': 291\n",
    "}\n",
    "response = requests.post('http://127.0.0.1:8000/summ', json=param)\n",
    "print(response.text)"
   ]
  },
  {
   "cell_type": "code",
   "execution_count": 8,
   "metadata": {},
   "outputs": [
    {
     "name": "stdout",
     "output_type": "stream",
     "text": [
      "{\"result\":-307.0}\n"
     ]
    }
   ],
   "source": [
    "param = {\n",
    "    'a': 78,\n",
    "    'b': 385\n",
    "}\n",
    "response = requests.post('http://127.0.0.1:8000/diff', json=param)\n",
    "print(response.text)"
   ]
  },
  {
   "cell_type": "code",
   "execution_count": 7,
   "metadata": {},
   "outputs": [
    {
     "name": "stdout",
     "output_type": "stream",
     "text": [
      "{\"result\":1740.0}\n"
     ]
    }
   ],
   "source": [
    "param = {\n",
    "    'a': 60,\n",
    "    'b': 29\n",
    "}\n",
    "response = requests.post('http://127.0.0.1:8000/mltpl', json=param)\n",
    "print(response.text)"
   ]
  },
  {
   "cell_type": "code",
   "execution_count": 6,
   "metadata": {},
   "outputs": [
    {
     "name": "stdout",
     "output_type": "stream",
     "text": [
      "{\"result\":29.956521739130434}\n"
     ]
    }
   ],
   "source": [
    "param = {\n",
    "    'a': 689,\n",
    "    'b': 23\n",
    "}\n",
    "response = requests.post('http://127.0.0.1:8000/div', json=param)\n",
    "print(response.text)"
   ]
  }
 ],
 "metadata": {
  "kernelspec": {
   "display_name": ".venv",
   "language": "python",
   "name": "python3"
  },
  "language_info": {
   "codemirror_mode": {
    "name": "ipython",
    "version": 3
   },
   "file_extension": ".py",
   "mimetype": "text/x-python",
   "name": "python",
   "nbconvert_exporter": "python",
   "pygments_lexer": "ipython3",
   "version": "3.12.7"
  }
 },
 "nbformat": 4,
 "nbformat_minor": 2
}
